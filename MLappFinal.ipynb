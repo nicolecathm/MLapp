{
  "nbformat": 4,
  "nbformat_minor": 0,
  "metadata": {
    "colab": {
      "name": "MLappFinal.ipynb",
      "provenance": [],
      "collapsed_sections": []
    },
    "kernelspec": {
      "display_name": "Python 3",
      "name": "python3"
    }
  },
  "cells": [
    {
      "cell_type": "markdown",
      "metadata": {
        "id": "2S57lkUNNII2"
      },
      "source": [
        "Nicole Miller ML Application\n",
        "\n",
        "link to dataset:\n",
        "https://www.kaggle.com/arashnic/cinema-ticket"
      ]
    },
    {
      "cell_type": "code",
      "metadata": {
        "cellView": "form",
        "colab": {
          "base_uri": "https://localhost:8080/"
        },
        "id": "PxMwEbvsdpPg",
        "outputId": "1d9b7dd7-73b4-4387-f916-df90601ddc36"
      },
      "source": [
        "#@title\n",
        "from google.colab import drive\n",
        "drive.mount('/content/drive')"
      ],
      "execution_count": 1,
      "outputs": [
        {
          "output_type": "stream",
          "text": [
            "Mounted at /content/drive\n"
          ],
          "name": "stdout"
        }
      ]
    },
    {
      "cell_type": "code",
      "metadata": {
        "id": "fsCdQnURw3q-"
      },
      "source": [
        "# Returns dataset in pandas formatting and splits into training/testing\n",
        "\n",
        "# code to remove : INFINITY, NaN, bad data! \n",
        "# sent from Tyler Balson in Zoom, also found on stackoverflow \n",
        "# https://stackoverflow.com/a/46581125\n",
        "\n",
        "def clean_dataset(df):\n",
        "    # code to remove : INFINITY, NaN, bad data! \n",
        "    # sent from Tyler Balson in Zoom, also found on stackoverflow \n",
        "    # https://stackoverflow.com/a/46581125  \n",
        "    import numpy as np\n",
        "    import pandas as pd\n",
        "    assert isinstance(df, pd.DataFrame), \"df needs to be a pd.DataFrame\"\n",
        "    df.dropna(inplace=True)\n",
        "    indices_to_keep = ~df.isin([np.nan, np.inf, -np.inf]).any(1)\n",
        "    return df[indices_to_keep].astype(np.float64)\n",
        "\n",
        "def cleand ( filename ):\n",
        "  # takes filename --> returns training data, testing data, unsplit dataframe \n",
        "  \n",
        "  # read in csv file w pandas dataframe\n",
        "  # removes date columb that breaks clean_dataset function\n",
        "  # creates new date index column to use as feature\n",
        "  # divides ticket_price and total_sales by 1e4\n",
        "  import pandas as pd\n",
        "  from sklearn.model_selection import train_test_split\n",
        "\n",
        "  data = pd.read_csv(filename)            # reads in as pandas df\n",
        "\n",
        "  data = data.drop(columns = ['date'])    # removes problematic date column, uses quarter as time feature\n",
        "  data = clean_dataset(data)              # removes any nan or infinity \n",
        "\n",
        "\n",
        "\n",
        "  # combines the month and day colums to a day index (1 - 365)\n",
        "  # doesn't account for leap year, in my opinion this one day out of a year is negligible\n",
        "  month = {1: 0, 2: 31, 3: 59, 4: 90, 5: 120, 6: 151, 7: 181, 8: 212, 9:243, 10: 273, 11: 304, 12: 334 }\n",
        "  days = []\n",
        "  for x in range(0, len(data)):\n",
        "    i = data['month'].iloc[x]\n",
        "    y = data['day'].iloc[x]\n",
        "    days.append(month[i] + y)\n",
        "  \n",
        "  data[\"day_index\"] = days # add day columb to dataframe\n",
        "\n",
        "\n",
        "\n",
        "  # fix imbalance in ticket_price, and total_sales, off by factor of 4?\n",
        "\n",
        "  for i in range(0, len(data)):\n",
        "    data['total_sales'].iloc[i]/=1e4\n",
        "    data['ticket_price'].iloc[i]/=1e4\n",
        " \n",
        "  datax = data[['film_code', 'cinema_code', 'ticket_price', 'day_index', 'show_time', 'capacity', 'month', 'quarter', 'day']]\n",
        "  datay = data['total_sales']\n",
        "\n",
        "\n",
        "  # split into training and testing\n",
        "  trainx, testx, trainy, testy = train_test_split(datax, datay, random_state = 0, test_size = 0.2) # splits into training and testing\n",
        "\n",
        "\n",
        "  return trainx, trainy, testx, testy, data\n"
      ],
      "execution_count": 2,
      "outputs": []
    },
    {
      "cell_type": "code",
      "metadata": {
        "id": "kBpJ8s6k2zop"
      },
      "source": [
        "# Model used to train data, to predict total sales\n",
        "def linReg ( trainx, trainy, testx): \n",
        "  # takes training data, testing data ---> returns model for predicting/score and transformed test values\n",
        "  from sklearn.linear_model import LinearRegression\n",
        "  from sklearn.preprocessing import PolynomialFeatures\n",
        "  polynomial = PolynomialFeatures( degree = 5)\n",
        "  features_poly = polynomial.fit_transform(trainx)\n",
        "  poly_testx = polynomial.transform(testx)\n",
        "\n",
        "  regr = LinearRegression()\n",
        "  model = regr.fit(features_poly, trainy)\n",
        "\n",
        "  return model, poly_testx, polynomial \n"
      ],
      "execution_count": 3,
      "outputs": []
    },
    {
      "cell_type": "code",
      "metadata": {
        "id": "oKELla54IFG9"
      },
      "source": [
        "#\n",
        "#    Ensures that the prediction is not more than possible for \n",
        "#    a given capacity AND removes negative predictions, replaces with 0\n",
        "#\n",
        "def capacityMax(prediction): \n",
        "  z = 0\n",
        "  for i in range(0, len(testy)):\n",
        "    if(prediction[i]/testx['ticket_price'].iloc[i] > capacityTestx[i]):\n",
        "      prediction[i] = capacityTestx[i]*testx['ticket_price'].iloc[i]\n",
        "      z+=1\n",
        "\n",
        "    if(prediction[i] < 0): # Removes negative predictions, 0 sales\n",
        "      prediction[i] = 0;\n",
        "  print('->',z, \" Predictions not possible with given capacity\")\n",
        "\n",
        "  return prediction\n",
        "\n"
      ],
      "execution_count": 4,
      "outputs": []
    },
    {
      "cell_type": "code",
      "metadata": {
        "id": "3MW6yRRUTdKq"
      },
      "source": [
        "#\n",
        "#   Determines percentage within a range of error the model is compared to known values\n",
        "#   Prints out plot to show comparison between prediction vs actual\n",
        "#\n",
        "def myPredMetric(prediction, testy, lessThanThis = 100): \n",
        "  # default lessThanThis = 100 ---->  CHANGE TO TEST ACCURACY\n",
        "  import matplotlib.pyplot as plt\n",
        "  k = 0\n",
        "  num=[]\n",
        "\n",
        "  z = 0\n",
        "  for i in range(0, len(testy)):\n",
        "    # find difference bw pred and actual\n",
        "    num.append(testy.iloc[i] - prediction[i])\n",
        "    if(num[i] < 0 ):\n",
        "      num[i]*=-1\n",
        "    if(num[i] < lessThanThis): \n",
        "      k+=1  \n",
        "    \n",
        "  print(\"-> Differences less than %d:\" %(lessThanThis)  , k)\n",
        "  print(\"-> Total possible:\", len(testy))\n",
        "  percent = 100*k/len(testy)\n",
        "  print(\"%.2f PERCENT are off by less than %d \" % (percent, lessThanThis))\n",
        "\n",
        "  plt.scatter(prediction, testy)\n",
        "  plt.title(\"Predicted Values vs Actual Values\")\n",
        "  plt.show()\n"
      ],
      "execution_count": 5,
      "outputs": []
    },
    {
      "cell_type": "code",
      "metadata": {
        "id": "CqolfnM0xKL4"
      },
      "source": [
        "# split Data up, and read it in\n",
        "trainx, trainy, testx, testy, data = cleand('/content/drive/MyDrive/Colab Notebooks/cinemaTicket_Ref.csv')\n",
        "\n",
        "# In testing, the 'capacity' feature had a big impact on the outcome of the model\n",
        "# Although it improves the R2 score, I am unsure of whether it should be used\n",
        "# When a big capacity is given by the user, a lot of tickets are sold, and vice versa\n",
        "# with a smaller capacity. \n",
        "# Because of this I added a way to easily remove 'capacity' as a  contributing feature.\n",
        "#     To remove: uncomment lines dropping the column\n",
        "\n",
        "capacityTrainx = trainx['capacity'].values.tolist()\n",
        "capacityTestx = testx['capacity'].values.tolist()\n",
        "\n",
        "#trainx = trainx.drop(columns = 'capacity')\n",
        "#testx = testx.drop(columns = 'capacity')\n"
      ],
      "execution_count": 6,
      "outputs": []
    },
    {
      "cell_type": "code",
      "metadata": {
        "id": "tElq6NDn3FIE"
      },
      "source": [
        "model, poly_testx, polyTransf = linReg(trainx, trainy, testx) "
      ],
      "execution_count": 7,
      "outputs": []
    },
    {
      "cell_type": "code",
      "metadata": {
        "colab": {
          "base_uri": "https://localhost:8080/"
        },
        "id": "UGvRNgIjMGgn",
        "outputId": "81f37ccf-81ad-469b-9c13-3e1eba7ff39b"
      },
      "source": [
        "predUnref = model.predict(poly_testx)\n",
        "\n",
        "prediction = capacityMax(predUnref) # also removes negative predictions\n"
      ],
      "execution_count": 8,
      "outputs": [
        {
          "output_type": "stream",
          "text": [
            "-> 267  Predictions not possible with given capacity\n"
          ],
          "name": "stdout"
        }
      ]
    },
    {
      "cell_type": "code",
      "metadata": {
        "colab": {
          "base_uri": "https://localhost:8080/",
          "height": 332
        },
        "id": "NUmD650_M8EX",
        "outputId": "31722479-753b-4826-9f7c-969e8d32dbdd"
      },
      "source": [
        "myPredMetric(prediction, testy, 100)"
      ],
      "execution_count": 9,
      "outputs": [
        {
          "output_type": "stream",
          "text": [
            "-> Differences less than 100: 4979\n",
            "-> Total possible: 28480\n",
            "17.48 PERCENT are off by less than 100 \n"
          ],
          "name": "stdout"
        },
        {
          "output_type": "display_data",
          "data": {
            "image/png": "[encoded data removed]",
            "text/plain": [
              "<Figure size 432x288 with 1 Axes>"
            ]
          },
          "metadata": {
            "tags": [],
            "needs_background": "light"
          }
        }
      ]
    },
    {
      "cell_type": "code",
      "metadata": {
        "colab": {
          "base_uri": "https://localhost:8080/"
        },
        "id": "izVLhasDVf9y",
        "outputId": "f97065ae-8f00-48ae-de8d-55a7d7de9161"
      },
      "source": [
        "model.score(poly_testx, testy) # this is not a good metric because I am using the prediction more as a threshold as shown above"
      ],
      "execution_count": 10,
      "outputs": [
        {
          "output_type": "execute_result",
          "data": {
            "text/plain": [
              "0.7633130176823741"
            ]
          },
          "metadata": {
            "tags": []
          },
          "execution_count": 10
        }
      ]
    },
    {
      "cell_type": "code",
      "metadata": {
        "id": "-alwAFoObSKR"
      },
      "source": [
        "#   \n",
        "#   this is a function that takes input from a potential user\n",
        "#    --> prints Predicted Sales, and Tickets Sold based on Prediction and given ticket price\n",
        "\n",
        "def predictTicketSales( film_code, cinema_code, ticket_price, show_time, capacity, month, quarter, day): # day index calc by function\n",
        "\n",
        "  monthNum = {1: 0, 2: 31, 3: 59, 4: 90, 5: 120, 6: 151, 7: 181, 8: 212, 9:243, 10: 273, 11: 304, 12: 334 }\n",
        "  day_index = (monthNum[month] + day)\n",
        "\n",
        "  inputs = [(film_code, cinema_code, ticket_price, day_index, show_time, capacity, month, quarter, day)]\n",
        "  \n",
        "  \n",
        "  prediction = model.predict(polyTransf.transform(inputs))\n",
        "\n",
        "  tSales = prediction / ticket_price\n",
        "  if(tSales > capacity):\n",
        "    prediction = capacity*ticket_price\n",
        "\n",
        "  if(prediction <= 0):\n",
        "    prediction = 0\n",
        "    tSales = 0\n",
        "\n",
        "  print('Total Predicted Ticket Sales: %.2f' % (tSales))\n",
        "  print('Total Predicted Sales: %.2f\\n' % (prediction))"
      ],
      "execution_count": 11,
      "outputs": []
    },
    {
      "cell_type": "code",
      "metadata": {
        "colab": {
          "base_uri": "https://localhost:8080/"
        },
        "id": "h15nnUvT9EA-",
        "outputId": "bcd748ab-2cf0-4617-bb49-82ba49cdc04f"
      },
      "source": [
        "# film_code, cinema_code, ticket_price, show_time, capacity, month, quarter, day\n",
        "\n",
        "predictTicketSales(1492, 304, 15, 4, 200, 5, 2, 5)\n",
        "\n",
        "predictTicketSales(1500, 352, 8, 5,  300, 5, 2, 5)"
      ],
      "execution_count": 12,
      "outputs": [
        {
          "output_type": "stream",
          "text": [
            "Total Predicted Ticket Sales: 7.58\n",
            "Total Predicted Sales: 113.63\n",
            "\n",
            "Total Predicted Ticket Sales: 31.82\n",
            "Total Predicted Sales: 254.54\n",
            "\n"
          ],
          "name": "stdout"
        }
      ]
    },
    {
      "cell_type": "markdown",
      "metadata": {
        "id": "4WCwXGyRmBYk"
      },
      "source": [
        "The final function predictTicketSales() would be an example of where the user's information is input in and predictions would be returned for the user. \n",
        "\n",
        "The user would know their cinema code- maybe they are one of a larger organization and this algorithm is used by the whole company. I included film code in the case of a theater that may play older movies that already have data associated with them. In the case of a theater that only plays new movies, this would be irrelevant. Ticket price, show time, and the day of the movie playing are all things that the user can change to optimize sales. "
      ]
    },
    {
      "cell_type": "code",
      "metadata": {
        "id": "FUUH6nAinCPx",
        "colab": {
          "base_uri": "https://localhost:8080/"
        },
        "outputId": "eca43972-08db-46f5-bc04-8a67e6039be7"
      },
      "source": [
        "from joblib import dump, load \n",
        "dump(model, 'predTS.pkl')"
      ],
      "execution_count": 13,
      "outputs": [
        {
          "output_type": "execute_result",
          "data": {
            "text/plain": [
              "['predTS.pkl']"
            ]
          },
          "metadata": {
            "tags": []
          },
          "execution_count": 13
        }
      ]
    }
  ]
}